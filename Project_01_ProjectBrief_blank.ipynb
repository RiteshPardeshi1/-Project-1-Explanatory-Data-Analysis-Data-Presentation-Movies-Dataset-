{
 "cells": [
  {
   "cell_type": "markdown",
   "metadata": {},
   "source": [
    "# Project 1: Explanatory Data Analysis & Data Presentation (Movies Dataset)"
   ]
  },
  {
   "cell_type": "markdown",
   "metadata": {},
   "source": [
    "# Self-Coded"
   ]
  },
  {
   "cell_type": "markdown",
   "metadata": {},
   "source": [
    "## Data Import and first Inspection"
   ]
  },
  {
   "cell_type": "markdown",
   "metadata": {},
   "source": [
    "1. __Import__ the movies dataset from the CSV file \"movies_complete.csv\". __Inspect__ the data."
   ]
  },
  {
   "cell_type": "markdown",
   "metadata": {},
   "source": [
    "__Some additional information on Features/Columns__:"
   ]
  },
  {
   "cell_type": "markdown",
   "metadata": {},
   "source": [
    "* **id:** The ID of the movie (clear/unique identifier).\n",
    "* **title:** The Official Title of the movie.\n",
    "* **tagline:** The tagline of the movie.\n",
    "* **release_date:** Theatrical Release Date of the movie.\n",
    "* **genres:** Genres associated with the movie.\n",
    "* **belongs_to_collection:** Gives information on the movie series/franchise the particular film belongs to.\n",
    "* **original_language:** The language in which the movie was originally shot in.\n",
    "* **budget_musd:** The budget of the movie in million dollars.\n",
    "* **revenue_musd:** The total revenue of the movie in million dollars.\n",
    "* **production_companies:** Production companies involved with the making of the movie.\n",
    "* **production_countries:** Countries where the movie was shot/produced in.\n",
    "* **vote_count:** The number of votes by users, as counted by TMDB.\n",
    "* **vote_average:** The average rating of the movie.\n",
    "* **popularity:** The Popularity Score assigned by TMDB.\n",
    "* **runtime:** The runtime of the movie in minutes.\n",
    "* **overview:** A brief blurb of the movie.\n",
    "* **spoken_languages:** Spoken languages in the film.\n",
    "* **poster_path:** The URL of the poster image.\n",
    "* **cast:** (Main) Actors appearing in the movie.\n",
    "* **cast_size:** number of Actors appearing in the movie.\n",
    "* **director:** Director of the movie.\n",
    "* **crew_size:** Size of the film crew (incl. director, excl. actors)."
   ]
  },
  {
   "cell_type": "code",
   "execution_count": 1,
   "metadata": {},
   "outputs": [],
   "source": [
    "import pandas as pd\n",
    "import matplotlib.pyplot as plt\n",
    "\n",
    "df = pd.read_csv(\"movies_complete.csv\")"
   ]
  },
  {
   "cell_type": "markdown",
   "metadata": {},
   "source": [
    "## The best and the worst movies..."
   ]
  },
  {
   "cell_type": "markdown",
   "metadata": {},
   "source": [
    "2. __Filter__ the Dataset and __find the best/worst n Movies__ with the"
   ]
  },
  {
   "cell_type": "markdown",
   "metadata": {},
   "source": [
    "- Highest Revenue\n",
    "- Highest Budget\n",
    "- Highest Profit (=Revenue - Budget)\n",
    "- Lowest Profit (=Revenue - Budget)\n",
    "- Highest Return on Investment (=Revenue / Budget) (only movies with Budget >= 10) \n",
    "- Lowest Return on Investment (=Revenue / Budget) (only movies with Budget >= 10)\n",
    "- Highest number of Votes\n",
    "- Highest Rating (only movies with 10 or more Ratings)\n",
    "- Lowest Rating (only movies with 10 or more Ratings)\n",
    "- Highest Popularity"
   ]
  },
  {
   "cell_type": "markdown",
   "metadata": {},
   "source": [
    "__Define__ an appropriate __user-defined function__ to reuse code."
   ]
  },
  {
   "cell_type": "markdown",
   "metadata": {},
   "source": [
    "__Movies Top 5 - Highest Revenue__"
   ]
  },
  {
   "cell_type": "code",
   "execution_count": 4,
   "metadata": {},
   "outputs": [
    {
     "data": {
      "text/html": [
       "<div>\n",
       "<style scoped>\n",
       "    .dataframe tbody tr th:only-of-type {\n",
       "        vertical-align: middle;\n",
       "    }\n",
       "\n",
       "    .dataframe tbody tr th {\n",
       "        vertical-align: top;\n",
       "    }\n",
       "\n",
       "    .dataframe thead th {\n",
       "        text-align: right;\n",
       "    }\n",
       "</style>\n",
       "<table border=\"1\" class=\"dataframe\">\n",
       "  <thead>\n",
       "    <tr style=\"text-align: right;\">\n",
       "      <th></th>\n",
       "      <th>id</th>\n",
       "      <th>title</th>\n",
       "      <th>tagline</th>\n",
       "      <th>release_date</th>\n",
       "      <th>genres</th>\n",
       "      <th>belongs_to_collection</th>\n",
       "      <th>original_language</th>\n",
       "      <th>budget_musd</th>\n",
       "      <th>revenue_musd</th>\n",
       "      <th>production_companies</th>\n",
       "      <th>...</th>\n",
       "      <th>vote_average</th>\n",
       "      <th>popularity</th>\n",
       "      <th>runtime</th>\n",
       "      <th>overview</th>\n",
       "      <th>spoken_languages</th>\n",
       "      <th>poster_path</th>\n",
       "      <th>cast</th>\n",
       "      <th>cast_size</th>\n",
       "      <th>crew_size</th>\n",
       "      <th>director</th>\n",
       "    </tr>\n",
       "  </thead>\n",
       "  <tbody>\n",
       "    <tr>\n",
       "      <th>14448</th>\n",
       "      <td>19995</td>\n",
       "      <td>Avatar</td>\n",
       "      <td>Enter the World of Pandora.</td>\n",
       "      <td>2009-12-10</td>\n",
       "      <td>Action|Adventure|Fantasy|Science Fiction</td>\n",
       "      <td>Avatar Collection</td>\n",
       "      <td>en</td>\n",
       "      <td>237.0</td>\n",
       "      <td>2787.965087</td>\n",
       "      <td>Ingenious Film Partners|Twentieth Century Fox ...</td>\n",
       "      <td>...</td>\n",
       "      <td>7.2</td>\n",
       "      <td>185.070892</td>\n",
       "      <td>162.0</td>\n",
       "      <td>In the 22nd century, a paraplegic Marine is di...</td>\n",
       "      <td>English|Español</td>\n",
       "      <td>&lt;img src='http://image.tmdb.org/t/p/w185//btnl...</td>\n",
       "      <td>Sam Worthington|Zoe Saldana|Sigourney Weaver|S...</td>\n",
       "      <td>83</td>\n",
       "      <td>153</td>\n",
       "      <td>James Cameron</td>\n",
       "    </tr>\n",
       "    <tr>\n",
       "      <th>26265</th>\n",
       "      <td>140607</td>\n",
       "      <td>Star Wars: The Force Awakens</td>\n",
       "      <td>Every generation has a story.</td>\n",
       "      <td>2015-12-15</td>\n",
       "      <td>Action|Adventure|Science Fiction|Fantasy</td>\n",
       "      <td>Star Wars Collection</td>\n",
       "      <td>en</td>\n",
       "      <td>245.0</td>\n",
       "      <td>2068.223624</td>\n",
       "      <td>Lucasfilm|Truenorth Productions|Bad Robot</td>\n",
       "      <td>...</td>\n",
       "      <td>7.5</td>\n",
       "      <td>31.626013</td>\n",
       "      <td>136.0</td>\n",
       "      <td>Thirty years after defeating the Galactic Empi...</td>\n",
       "      <td>English</td>\n",
       "      <td>&lt;img src='http://image.tmdb.org/t/p/w185//9rd0...</td>\n",
       "      <td>Daisy Ridley|John Boyega|Adam Driver|Harrison ...</td>\n",
       "      <td>84</td>\n",
       "      <td>113</td>\n",
       "      <td>J.J. Abrams</td>\n",
       "    </tr>\n",
       "    <tr>\n",
       "      <th>1620</th>\n",
       "      <td>597</td>\n",
       "      <td>Titanic</td>\n",
       "      <td>Nothing on Earth could come between them.</td>\n",
       "      <td>1997-11-18</td>\n",
       "      <td>Drama|Romance|Thriller</td>\n",
       "      <td>NaN</td>\n",
       "      <td>en</td>\n",
       "      <td>200.0</td>\n",
       "      <td>1845.034188</td>\n",
       "      <td>Paramount Pictures|Twentieth Century Fox Film ...</td>\n",
       "      <td>...</td>\n",
       "      <td>7.5</td>\n",
       "      <td>26.889070</td>\n",
       "      <td>194.0</td>\n",
       "      <td>84 years later, a 101-year-old woman named Ros...</td>\n",
       "      <td>English|Français|Deutsch|svenska|Italiano|Pусский</td>\n",
       "      <td>&lt;img src='http://image.tmdb.org/t/p/w185//9xjZ...</td>\n",
       "      <td>Kate Winslet|Leonardo DiCaprio|Frances Fisher|...</td>\n",
       "      <td>136</td>\n",
       "      <td>65</td>\n",
       "      <td>James Cameron</td>\n",
       "    </tr>\n",
       "    <tr>\n",
       "      <th>17669</th>\n",
       "      <td>24428</td>\n",
       "      <td>The Avengers</td>\n",
       "      <td>Some assembly required.</td>\n",
       "      <td>2012-04-25</td>\n",
       "      <td>Science Fiction|Action|Adventure</td>\n",
       "      <td>The Avengers Collection</td>\n",
       "      <td>en</td>\n",
       "      <td>220.0</td>\n",
       "      <td>1519.557910</td>\n",
       "      <td>Paramount Pictures|Marvel Studios</td>\n",
       "      <td>...</td>\n",
       "      <td>7.4</td>\n",
       "      <td>89.887648</td>\n",
       "      <td>143.0</td>\n",
       "      <td>When an unexpected enemy emerges and threatens...</td>\n",
       "      <td>English</td>\n",
       "      <td>&lt;img src='http://image.tmdb.org/t/p/w185//RYMX...</td>\n",
       "      <td>Robert Downey Jr.|Chris Evans|Mark Ruffalo|Chr...</td>\n",
       "      <td>115</td>\n",
       "      <td>147</td>\n",
       "      <td>Joss Whedon</td>\n",
       "    </tr>\n",
       "    <tr>\n",
       "      <th>24812</th>\n",
       "      <td>135397</td>\n",
       "      <td>Jurassic World</td>\n",
       "      <td>The park is open.</td>\n",
       "      <td>2015-06-09</td>\n",
       "      <td>Action|Adventure|Science Fiction|Thriller</td>\n",
       "      <td>Jurassic Park Collection</td>\n",
       "      <td>en</td>\n",
       "      <td>150.0</td>\n",
       "      <td>1513.528810</td>\n",
       "      <td>Universal Studios|Amblin Entertainment|Legenda...</td>\n",
       "      <td>...</td>\n",
       "      <td>6.5</td>\n",
       "      <td>32.790475</td>\n",
       "      <td>124.0</td>\n",
       "      <td>Twenty-two years after the events of Jurassic ...</td>\n",
       "      <td>English</td>\n",
       "      <td>&lt;img src='http://image.tmdb.org/t/p/w185//rhr4...</td>\n",
       "      <td>Chris Pratt|Bryce Dallas Howard|Irrfan Khan|Vi...</td>\n",
       "      <td>28</td>\n",
       "      <td>435</td>\n",
       "      <td>Colin Trevorrow</td>\n",
       "    </tr>\n",
       "  </tbody>\n",
       "</table>\n",
       "<p>5 rows × 22 columns</p>\n",
       "</div>"
      ],
      "text/plain": [
       "           id                         title  \\\n",
       "14448   19995                        Avatar   \n",
       "26265  140607  Star Wars: The Force Awakens   \n",
       "1620      597                       Titanic   \n",
       "17669   24428                  The Avengers   \n",
       "24812  135397                Jurassic World   \n",
       "\n",
       "                                         tagline release_date  \\\n",
       "14448                Enter the World of Pandora.   2009-12-10   \n",
       "26265              Every generation has a story.   2015-12-15   \n",
       "1620   Nothing on Earth could come between them.   1997-11-18   \n",
       "17669                    Some assembly required.   2012-04-25   \n",
       "24812                          The park is open.   2015-06-09   \n",
       "\n",
       "                                          genres     belongs_to_collection  \\\n",
       "14448   Action|Adventure|Fantasy|Science Fiction         Avatar Collection   \n",
       "26265   Action|Adventure|Science Fiction|Fantasy      Star Wars Collection   \n",
       "1620                      Drama|Romance|Thriller                       NaN   \n",
       "17669           Science Fiction|Action|Adventure   The Avengers Collection   \n",
       "24812  Action|Adventure|Science Fiction|Thriller  Jurassic Park Collection   \n",
       "\n",
       "      original_language  budget_musd  revenue_musd  \\\n",
       "14448                en        237.0   2787.965087   \n",
       "26265                en        245.0   2068.223624   \n",
       "1620                 en        200.0   1845.034188   \n",
       "17669                en        220.0   1519.557910   \n",
       "24812                en        150.0   1513.528810   \n",
       "\n",
       "                                    production_companies  ... vote_average  \\\n",
       "14448  Ingenious Film Partners|Twentieth Century Fox ...  ...          7.2   \n",
       "26265          Lucasfilm|Truenorth Productions|Bad Robot  ...          7.5   \n",
       "1620   Paramount Pictures|Twentieth Century Fox Film ...  ...          7.5   \n",
       "17669                  Paramount Pictures|Marvel Studios  ...          7.4   \n",
       "24812  Universal Studios|Amblin Entertainment|Legenda...  ...          6.5   \n",
       "\n",
       "       popularity  runtime                                           overview  \\\n",
       "14448  185.070892    162.0  In the 22nd century, a paraplegic Marine is di...   \n",
       "26265   31.626013    136.0  Thirty years after defeating the Galactic Empi...   \n",
       "1620    26.889070    194.0  84 years later, a 101-year-old woman named Ros...   \n",
       "17669   89.887648    143.0  When an unexpected enemy emerges and threatens...   \n",
       "24812   32.790475    124.0  Twenty-two years after the events of Jurassic ...   \n",
       "\n",
       "                                        spoken_languages  \\\n",
       "14448                                    English|Español   \n",
       "26265                                            English   \n",
       "1620   English|Français|Deutsch|svenska|Italiano|Pусский   \n",
       "17669                                            English   \n",
       "24812                                            English   \n",
       "\n",
       "                                             poster_path  \\\n",
       "14448  <img src='http://image.tmdb.org/t/p/w185//btnl...   \n",
       "26265  <img src='http://image.tmdb.org/t/p/w185//9rd0...   \n",
       "1620   <img src='http://image.tmdb.org/t/p/w185//9xjZ...   \n",
       "17669  <img src='http://image.tmdb.org/t/p/w185//RYMX...   \n",
       "24812  <img src='http://image.tmdb.org/t/p/w185//rhr4...   \n",
       "\n",
       "                                                    cast cast_size crew_size  \\\n",
       "14448  Sam Worthington|Zoe Saldana|Sigourney Weaver|S...        83       153   \n",
       "26265  Daisy Ridley|John Boyega|Adam Driver|Harrison ...        84       113   \n",
       "1620   Kate Winslet|Leonardo DiCaprio|Frances Fisher|...       136        65   \n",
       "17669  Robert Downey Jr.|Chris Evans|Mark Ruffalo|Chr...       115       147   \n",
       "24812  Chris Pratt|Bryce Dallas Howard|Irrfan Khan|Vi...        28       435   \n",
       "\n",
       "              director  \n",
       "14448    James Cameron  \n",
       "26265      J.J. Abrams  \n",
       "1620     James Cameron  \n",
       "17669      Joss Whedon  \n",
       "24812  Colin Trevorrow  \n",
       "\n",
       "[5 rows x 22 columns]"
      ]
     },
     "execution_count": 4,
     "metadata": {},
     "output_type": "execute_result"
    }
   ],
   "source": [
    "df.nlargest(5,'revenue_musd')"
   ]
  },
  {
   "cell_type": "code",
   "execution_count": 6,
   "metadata": {},
   "outputs": [
    {
     "data": {
      "text/html": [
       "<div>\n",
       "<style scoped>\n",
       "    .dataframe tbody tr th:only-of-type {\n",
       "        vertical-align: middle;\n",
       "    }\n",
       "\n",
       "    .dataframe tbody tr th {\n",
       "        vertical-align: top;\n",
       "    }\n",
       "\n",
       "    .dataframe thead th {\n",
       "        text-align: right;\n",
       "    }\n",
       "</style>\n",
       "<table border=\"1\" class=\"dataframe\">\n",
       "  <thead>\n",
       "    <tr style=\"text-align: right;\">\n",
       "      <th></th>\n",
       "      <th>id</th>\n",
       "      <th>title</th>\n",
       "      <th>tagline</th>\n",
       "      <th>release_date</th>\n",
       "      <th>genres</th>\n",
       "      <th>belongs_to_collection</th>\n",
       "      <th>original_language</th>\n",
       "      <th>budget_musd</th>\n",
       "      <th>revenue_musd</th>\n",
       "      <th>production_companies</th>\n",
       "      <th>...</th>\n",
       "      <th>vote_average</th>\n",
       "      <th>popularity</th>\n",
       "      <th>runtime</th>\n",
       "      <th>overview</th>\n",
       "      <th>spoken_languages</th>\n",
       "      <th>poster_path</th>\n",
       "      <th>cast</th>\n",
       "      <th>cast_size</th>\n",
       "      <th>crew_size</th>\n",
       "      <th>director</th>\n",
       "    </tr>\n",
       "  </thead>\n",
       "  <tbody>\n",
       "    <tr>\n",
       "      <th>14448</th>\n",
       "      <td>19995</td>\n",
       "      <td>Avatar</td>\n",
       "      <td>Enter the World of Pandora.</td>\n",
       "      <td>2009-12-10</td>\n",
       "      <td>Action|Adventure|Fantasy|Science Fiction</td>\n",
       "      <td>Avatar Collection</td>\n",
       "      <td>en</td>\n",
       "      <td>237.0</td>\n",
       "      <td>2787.965087</td>\n",
       "      <td>Ingenious Film Partners|Twentieth Century Fox ...</td>\n",
       "      <td>...</td>\n",
       "      <td>7.2</td>\n",
       "      <td>185.070892</td>\n",
       "      <td>162.0</td>\n",
       "      <td>In the 22nd century, a paraplegic Marine is di...</td>\n",
       "      <td>English|Español</td>\n",
       "      <td>&lt;img src='http://image.tmdb.org/t/p/w185//btnl...</td>\n",
       "      <td>Sam Worthington|Zoe Saldana|Sigourney Weaver|S...</td>\n",
       "      <td>83</td>\n",
       "      <td>153</td>\n",
       "      <td>James Cameron</td>\n",
       "    </tr>\n",
       "    <tr>\n",
       "      <th>26265</th>\n",
       "      <td>140607</td>\n",
       "      <td>Star Wars: The Force Awakens</td>\n",
       "      <td>Every generation has a story.</td>\n",
       "      <td>2015-12-15</td>\n",
       "      <td>Action|Adventure|Science Fiction|Fantasy</td>\n",
       "      <td>Star Wars Collection</td>\n",
       "      <td>en</td>\n",
       "      <td>245.0</td>\n",
       "      <td>2068.223624</td>\n",
       "      <td>Lucasfilm|Truenorth Productions|Bad Robot</td>\n",
       "      <td>...</td>\n",
       "      <td>7.5</td>\n",
       "      <td>31.626013</td>\n",
       "      <td>136.0</td>\n",
       "      <td>Thirty years after defeating the Galactic Empi...</td>\n",
       "      <td>English</td>\n",
       "      <td>&lt;img src='http://image.tmdb.org/t/p/w185//9rd0...</td>\n",
       "      <td>Daisy Ridley|John Boyega|Adam Driver|Harrison ...</td>\n",
       "      <td>84</td>\n",
       "      <td>113</td>\n",
       "      <td>J.J. Abrams</td>\n",
       "    </tr>\n",
       "    <tr>\n",
       "      <th>1620</th>\n",
       "      <td>597</td>\n",
       "      <td>Titanic</td>\n",
       "      <td>Nothing on Earth could come between them.</td>\n",
       "      <td>1997-11-18</td>\n",
       "      <td>Drama|Romance|Thriller</td>\n",
       "      <td>NaN</td>\n",
       "      <td>en</td>\n",
       "      <td>200.0</td>\n",
       "      <td>1845.034188</td>\n",
       "      <td>Paramount Pictures|Twentieth Century Fox Film ...</td>\n",
       "      <td>...</td>\n",
       "      <td>7.5</td>\n",
       "      <td>26.889070</td>\n",
       "      <td>194.0</td>\n",
       "      <td>84 years later, a 101-year-old woman named Ros...</td>\n",
       "      <td>English|Français|Deutsch|svenska|Italiano|Pусский</td>\n",
       "      <td>&lt;img src='http://image.tmdb.org/t/p/w185//9xjZ...</td>\n",
       "      <td>Kate Winslet|Leonardo DiCaprio|Frances Fisher|...</td>\n",
       "      <td>136</td>\n",
       "      <td>65</td>\n",
       "      <td>James Cameron</td>\n",
       "    </tr>\n",
       "    <tr>\n",
       "      <th>17669</th>\n",
       "      <td>24428</td>\n",
       "      <td>The Avengers</td>\n",
       "      <td>Some assembly required.</td>\n",
       "      <td>2012-04-25</td>\n",
       "      <td>Science Fiction|Action|Adventure</td>\n",
       "      <td>The Avengers Collection</td>\n",
       "      <td>en</td>\n",
       "      <td>220.0</td>\n",
       "      <td>1519.557910</td>\n",
       "      <td>Paramount Pictures|Marvel Studios</td>\n",
       "      <td>...</td>\n",
       "      <td>7.4</td>\n",
       "      <td>89.887648</td>\n",
       "      <td>143.0</td>\n",
       "      <td>When an unexpected enemy emerges and threatens...</td>\n",
       "      <td>English</td>\n",
       "      <td>&lt;img src='http://image.tmdb.org/t/p/w185//RYMX...</td>\n",
       "      <td>Robert Downey Jr.|Chris Evans|Mark Ruffalo|Chr...</td>\n",
       "      <td>115</td>\n",
       "      <td>147</td>\n",
       "      <td>Joss Whedon</td>\n",
       "    </tr>\n",
       "    <tr>\n",
       "      <th>24812</th>\n",
       "      <td>135397</td>\n",
       "      <td>Jurassic World</td>\n",
       "      <td>The park is open.</td>\n",
       "      <td>2015-06-09</td>\n",
       "      <td>Action|Adventure|Science Fiction|Thriller</td>\n",
       "      <td>Jurassic Park Collection</td>\n",
       "      <td>en</td>\n",
       "      <td>150.0</td>\n",
       "      <td>1513.528810</td>\n",
       "      <td>Universal Studios|Amblin Entertainment|Legenda...</td>\n",
       "      <td>...</td>\n",
       "      <td>6.5</td>\n",
       "      <td>32.790475</td>\n",
       "      <td>124.0</td>\n",
       "      <td>Twenty-two years after the events of Jurassic ...</td>\n",
       "      <td>English</td>\n",
       "      <td>&lt;img src='http://image.tmdb.org/t/p/w185//rhr4...</td>\n",
       "      <td>Chris Pratt|Bryce Dallas Howard|Irrfan Khan|Vi...</td>\n",
       "      <td>28</td>\n",
       "      <td>435</td>\n",
       "      <td>Colin Trevorrow</td>\n",
       "    </tr>\n",
       "  </tbody>\n",
       "</table>\n",
       "<p>5 rows × 22 columns</p>\n",
       "</div>"
      ],
      "text/plain": [
       "           id                         title  \\\n",
       "14448   19995                        Avatar   \n",
       "26265  140607  Star Wars: The Force Awakens   \n",
       "1620      597                       Titanic   \n",
       "17669   24428                  The Avengers   \n",
       "24812  135397                Jurassic World   \n",
       "\n",
       "                                         tagline release_date  \\\n",
       "14448                Enter the World of Pandora.   2009-12-10   \n",
       "26265              Every generation has a story.   2015-12-15   \n",
       "1620   Nothing on Earth could come between them.   1997-11-18   \n",
       "17669                    Some assembly required.   2012-04-25   \n",
       "24812                          The park is open.   2015-06-09   \n",
       "\n",
       "                                          genres     belongs_to_collection  \\\n",
       "14448   Action|Adventure|Fantasy|Science Fiction         Avatar Collection   \n",
       "26265   Action|Adventure|Science Fiction|Fantasy      Star Wars Collection   \n",
       "1620                      Drama|Romance|Thriller                       NaN   \n",
       "17669           Science Fiction|Action|Adventure   The Avengers Collection   \n",
       "24812  Action|Adventure|Science Fiction|Thriller  Jurassic Park Collection   \n",
       "\n",
       "      original_language  budget_musd  revenue_musd  \\\n",
       "14448                en        237.0   2787.965087   \n",
       "26265                en        245.0   2068.223624   \n",
       "1620                 en        200.0   1845.034188   \n",
       "17669                en        220.0   1519.557910   \n",
       "24812                en        150.0   1513.528810   \n",
       "\n",
       "                                    production_companies  ... vote_average  \\\n",
       "14448  Ingenious Film Partners|Twentieth Century Fox ...  ...          7.2   \n",
       "26265          Lucasfilm|Truenorth Productions|Bad Robot  ...          7.5   \n",
       "1620   Paramount Pictures|Twentieth Century Fox Film ...  ...          7.5   \n",
       "17669                  Paramount Pictures|Marvel Studios  ...          7.4   \n",
       "24812  Universal Studios|Amblin Entertainment|Legenda...  ...          6.5   \n",
       "\n",
       "       popularity  runtime                                           overview  \\\n",
       "14448  185.070892    162.0  In the 22nd century, a paraplegic Marine is di...   \n",
       "26265   31.626013    136.0  Thirty years after defeating the Galactic Empi...   \n",
       "1620    26.889070    194.0  84 years later, a 101-year-old woman named Ros...   \n",
       "17669   89.887648    143.0  When an unexpected enemy emerges and threatens...   \n",
       "24812   32.790475    124.0  Twenty-two years after the events of Jurassic ...   \n",
       "\n",
       "                                        spoken_languages  \\\n",
       "14448                                    English|Español   \n",
       "26265                                            English   \n",
       "1620   English|Français|Deutsch|svenska|Italiano|Pусский   \n",
       "17669                                            English   \n",
       "24812                                            English   \n",
       "\n",
       "                                             poster_path  \\\n",
       "14448  <img src='http://image.tmdb.org/t/p/w185//btnl...   \n",
       "26265  <img src='http://image.tmdb.org/t/p/w185//9rd0...   \n",
       "1620   <img src='http://image.tmdb.org/t/p/w185//9xjZ...   \n",
       "17669  <img src='http://image.tmdb.org/t/p/w185//RYMX...   \n",
       "24812  <img src='http://image.tmdb.org/t/p/w185//rhr4...   \n",
       "\n",
       "                                                    cast cast_size crew_size  \\\n",
       "14448  Sam Worthington|Zoe Saldana|Sigourney Weaver|S...        83       153   \n",
       "26265  Daisy Ridley|John Boyega|Adam Driver|Harrison ...        84       113   \n",
       "1620   Kate Winslet|Leonardo DiCaprio|Frances Fisher|...       136        65   \n",
       "17669  Robert Downey Jr.|Chris Evans|Mark Ruffalo|Chr...       115       147   \n",
       "24812  Chris Pratt|Bryce Dallas Howard|Irrfan Khan|Vi...        28       435   \n",
       "\n",
       "              director  \n",
       "14448    James Cameron  \n",
       "26265      J.J. Abrams  \n",
       "1620     James Cameron  \n",
       "17669      Joss Whedon  \n",
       "24812  Colin Trevorrow  \n",
       "\n",
       "[5 rows x 22 columns]"
      ]
     },
     "execution_count": 6,
     "metadata": {},
     "output_type": "execute_result"
    }
   ],
   "source": [
    "df.sort_values(by='revenue_musd',ascending=False).head(5)"
   ]
  },
  {
   "cell_type": "code",
   "execution_count": 9,
   "metadata": {},
   "outputs": [
    {
     "data": {
      "text/plain": [
       "id                                                                   19995\n",
       "title                                                               Avatar\n",
       "tagline                                        Enter the World of Pandora.\n",
       "release_date                                                    2009-12-10\n",
       "genres                            Action|Adventure|Fantasy|Science Fiction\n",
       "belongs_to_collection                                    Avatar Collection\n",
       "original_language                                                       en\n",
       "budget_musd                                                          237.0\n",
       "revenue_musd                                                   2787.965087\n",
       "production_companies     Ingenious Film Partners|Twentieth Century Fox ...\n",
       "production_countries               United States of America|United Kingdom\n",
       "vote_count                                                         12114.0\n",
       "vote_average                                                           7.2\n",
       "popularity                                                      185.070892\n",
       "runtime                                                              162.0\n",
       "overview                 In the 22nd century, a paraplegic Marine is di...\n",
       "spoken_languages                                           English|Español\n",
       "poster_path              <img src='http://image.tmdb.org/t/p/w185//btnl...\n",
       "cast                     Sam Worthington|Zoe Saldana|Sigourney Weaver|S...\n",
       "cast_size                                                               83\n",
       "crew_size                                                              153\n",
       "director                                                     James Cameron\n",
       "Name: 14448, dtype: object"
      ]
     },
     "execution_count": 9,
     "metadata": {},
     "output_type": "execute_result"
    }
   ],
   "source": [
    "df.loc[14448]"
   ]
  },
  {
   "cell_type": "markdown",
   "metadata": {},
   "source": [
    "__Movies Top 5 - Highest Budget__"
   ]
  },
  {
   "cell_type": "code",
   "execution_count": 13,
   "metadata": {},
   "outputs": [
    {
     "data": {
      "text/html": [
       "<div>\n",
       "<style scoped>\n",
       "    .dataframe tbody tr th:only-of-type {\n",
       "        vertical-align: middle;\n",
       "    }\n",
       "\n",
       "    .dataframe tbody tr th {\n",
       "        vertical-align: top;\n",
       "    }\n",
       "\n",
       "    .dataframe thead th {\n",
       "        text-align: right;\n",
       "    }\n",
       "</style>\n",
       "<table border=\"1\" class=\"dataframe\">\n",
       "  <thead>\n",
       "    <tr style=\"text-align: right;\">\n",
       "      <th></th>\n",
       "      <th>title</th>\n",
       "      <th>budget_musd</th>\n",
       "    </tr>\n",
       "  </thead>\n",
       "  <tbody>\n",
       "    <tr>\n",
       "      <th>16986</th>\n",
       "      <td>Pirates of the Caribbean: On Stranger Tides</td>\n",
       "      <td>380.0</td>\n",
       "    </tr>\n",
       "    <tr>\n",
       "      <th>11743</th>\n",
       "      <td>Pirates of the Caribbean: At World's End</td>\n",
       "      <td>300.0</td>\n",
       "    </tr>\n",
       "    <tr>\n",
       "      <th>26268</th>\n",
       "      <td>Avengers: Age of Ultron</td>\n",
       "      <td>280.0</td>\n",
       "    </tr>\n",
       "    <tr>\n",
       "      <th>10985</th>\n",
       "      <td>Superman Returns</td>\n",
       "      <td>270.0</td>\n",
       "    </tr>\n",
       "    <tr>\n",
       "      <th>16006</th>\n",
       "      <td>Tangled</td>\n",
       "      <td>260.0</td>\n",
       "    </tr>\n",
       "  </tbody>\n",
       "</table>\n",
       "</div>"
      ],
      "text/plain": [
       "                                             title  budget_musd\n",
       "16986  Pirates of the Caribbean: On Stranger Tides        380.0\n",
       "11743     Pirates of the Caribbean: At World's End        300.0\n",
       "26268                      Avengers: Age of Ultron        280.0\n",
       "10985                             Superman Returns        270.0\n",
       "16006                                      Tangled        260.0"
      ]
     },
     "execution_count": 13,
     "metadata": {},
     "output_type": "execute_result"
    }
   ],
   "source": [
    "df.nlargest(5,'budget_musd')[['title','budget_musd']]"
   ]
  },
  {
   "cell_type": "markdown",
   "metadata": {},
   "source": [
    "__Movies Top 5 - Highest Profit__"
   ]
  },
  {
   "cell_type": "code",
   "execution_count": 17,
   "metadata": {},
   "outputs": [
    {
     "data": {
      "text/html": [
       "<div>\n",
       "<style scoped>\n",
       "    .dataframe tbody tr th:only-of-type {\n",
       "        vertical-align: middle;\n",
       "    }\n",
       "\n",
       "    .dataframe tbody tr th {\n",
       "        vertical-align: top;\n",
       "    }\n",
       "\n",
       "    .dataframe thead th {\n",
       "        text-align: right;\n",
       "    }\n",
       "</style>\n",
       "<table border=\"1\" class=\"dataframe\">\n",
       "  <thead>\n",
       "    <tr style=\"text-align: right;\">\n",
       "      <th></th>\n",
       "      <th>title</th>\n",
       "      <th>profit</th>\n",
       "    </tr>\n",
       "  </thead>\n",
       "  <tbody>\n",
       "    <tr>\n",
       "      <th>14448</th>\n",
       "      <td>Avatar</td>\n",
       "      <td>2550.965087</td>\n",
       "    </tr>\n",
       "    <tr>\n",
       "      <th>26265</th>\n",
       "      <td>Star Wars: The Force Awakens</td>\n",
       "      <td>1823.223624</td>\n",
       "    </tr>\n",
       "    <tr>\n",
       "      <th>1620</th>\n",
       "      <td>Titanic</td>\n",
       "      <td>1645.034188</td>\n",
       "    </tr>\n",
       "    <tr>\n",
       "      <th>24812</th>\n",
       "      <td>Jurassic World</td>\n",
       "      <td>1363.528810</td>\n",
       "    </tr>\n",
       "    <tr>\n",
       "      <th>28501</th>\n",
       "      <td>Furious 7</td>\n",
       "      <td>1316.249360</td>\n",
       "    </tr>\n",
       "  </tbody>\n",
       "</table>\n",
       "</div>"
      ],
      "text/plain": [
       "                              title       profit\n",
       "14448                        Avatar  2550.965087\n",
       "26265  Star Wars: The Force Awakens  1823.223624\n",
       "1620                        Titanic  1645.034188\n",
       "24812                Jurassic World  1363.528810\n",
       "28501                     Furious 7  1316.249360"
      ]
     },
     "execution_count": 17,
     "metadata": {},
     "output_type": "execute_result"
    }
   ],
   "source": [
    "df['profit'] = df['revenue_musd'] - df['budget_musd']\n",
    "df.nlargest(5,'profit')[['title','profit']]"
   ]
  },
  {
   "cell_type": "code",
   "execution_count": null,
   "metadata": {},
   "outputs": [],
   "source": []
  },
  {
   "cell_type": "markdown",
   "metadata": {},
   "source": [
    "__Movies Top 5 - Lowest Profit__"
   ]
  },
  {
   "cell_type": "code",
   "execution_count": 20,
   "metadata": {
    "scrolled": false
   },
   "outputs": [
    {
     "data": {
      "text/html": [
       "<div>\n",
       "<style scoped>\n",
       "    .dataframe tbody tr th:only-of-type {\n",
       "        vertical-align: middle;\n",
       "    }\n",
       "\n",
       "    .dataframe tbody tr th {\n",
       "        vertical-align: top;\n",
       "    }\n",
       "\n",
       "    .dataframe thead th {\n",
       "        text-align: right;\n",
       "    }\n",
       "</style>\n",
       "<table border=\"1\" class=\"dataframe\">\n",
       "  <thead>\n",
       "    <tr style=\"text-align: right;\">\n",
       "      <th></th>\n",
       "      <th>title</th>\n",
       "      <th>profit</th>\n",
       "    </tr>\n",
       "  </thead>\n",
       "  <tbody>\n",
       "    <tr>\n",
       "      <th>20959</th>\n",
       "      <td>The Lone Ranger</td>\n",
       "      <td>-165.710090</td>\n",
       "    </tr>\n",
       "    <tr>\n",
       "      <th>7164</th>\n",
       "      <td>The Alamo</td>\n",
       "      <td>-119.180039</td>\n",
       "    </tr>\n",
       "    <tr>\n",
       "      <th>16659</th>\n",
       "      <td>Mars Needs Moms</td>\n",
       "      <td>-111.007242</td>\n",
       "    </tr>\n",
       "    <tr>\n",
       "      <th>43611</th>\n",
       "      <td>Valerian and the City of a Thousand Planets</td>\n",
       "      <td>-107.447384</td>\n",
       "    </tr>\n",
       "    <tr>\n",
       "      <th>2684</th>\n",
       "      <td>The 13th Warrior</td>\n",
       "      <td>-98.301101</td>\n",
       "    </tr>\n",
       "  </tbody>\n",
       "</table>\n",
       "</div>"
      ],
      "text/plain": [
       "                                             title      profit\n",
       "20959                              The Lone Ranger -165.710090\n",
       "7164                                     The Alamo -119.180039\n",
       "16659                              Mars Needs Moms -111.007242\n",
       "43611  Valerian and the City of a Thousand Planets -107.447384\n",
       "2684                              The 13th Warrior  -98.301101"
      ]
     },
     "execution_count": 20,
     "metadata": {},
     "output_type": "execute_result"
    }
   ],
   "source": [
    "df.sort_values(by='profit',ascending = True)[['title','profit']].head(5)"
   ]
  },
  {
   "cell_type": "markdown",
   "metadata": {},
   "source": [
    "__Movies Top 5 - Highest ROI__"
   ]
  },
  {
   "cell_type": "code",
   "execution_count": 23,
   "metadata": {
    "scrolled": false
   },
   "outputs": [
    {
     "data": {
      "text/html": [
       "<div>\n",
       "<style scoped>\n",
       "    .dataframe tbody tr th:only-of-type {\n",
       "        vertical-align: middle;\n",
       "    }\n",
       "\n",
       "    .dataframe tbody tr th {\n",
       "        vertical-align: top;\n",
       "    }\n",
       "\n",
       "    .dataframe thead th {\n",
       "        text-align: right;\n",
       "    }\n",
       "</style>\n",
       "<table border=\"1\" class=\"dataframe\">\n",
       "  <thead>\n",
       "    <tr style=\"text-align: right;\">\n",
       "      <th></th>\n",
       "      <th>title</th>\n",
       "      <th>ROI</th>\n",
       "    </tr>\n",
       "  </thead>\n",
       "  <tbody>\n",
       "    <tr>\n",
       "      <th>3965</th>\n",
       "      <td>Less Than Zero</td>\n",
       "      <td>1.239638e+07</td>\n",
       "    </tr>\n",
       "    <tr>\n",
       "      <th>3312</th>\n",
       "      <td>Modern Times</td>\n",
       "      <td>8.500000e+06</td>\n",
       "    </tr>\n",
       "    <tr>\n",
       "      <th>14270</th>\n",
       "      <td>Welcome to Dongmakgol</td>\n",
       "      <td>4.197477e+06</td>\n",
       "    </tr>\n",
       "    <tr>\n",
       "      <th>22041</th>\n",
       "      <td>Aquí Entre Nos</td>\n",
       "      <td>2.755584e+06</td>\n",
       "    </tr>\n",
       "    <tr>\n",
       "      <th>2284</th>\n",
       "      <td>The Karate Kid, Part II</td>\n",
       "      <td>1.018619e+06</td>\n",
       "    </tr>\n",
       "  </tbody>\n",
       "</table>\n",
       "</div>"
      ],
      "text/plain": [
       "                         title           ROI\n",
       "3965            Less Than Zero  1.239638e+07\n",
       "3312              Modern Times  8.500000e+06\n",
       "14270    Welcome to Dongmakgol  4.197477e+06\n",
       "22041           Aquí Entre Nos  2.755584e+06\n",
       "2284   The Karate Kid, Part II  1.018619e+06"
      ]
     },
     "execution_count": 23,
     "metadata": {},
     "output_type": "execute_result"
    }
   ],
   "source": [
    "df['ROI'] = df['revenue_musd'] / df['budget_musd']\n",
    "df.nlargest(5,'ROI')[['title','ROI']]"
   ]
  },
  {
   "cell_type": "markdown",
   "metadata": {},
   "source": [
    "__Movies Top 5 - Lowest ROI__"
   ]
  },
  {
   "cell_type": "code",
   "execution_count": 25,
   "metadata": {},
   "outputs": [
    {
     "data": {
      "text/html": [
       "<div>\n",
       "<style scoped>\n",
       "    .dataframe tbody tr th:only-of-type {\n",
       "        vertical-align: middle;\n",
       "    }\n",
       "\n",
       "    .dataframe tbody tr th {\n",
       "        vertical-align: top;\n",
       "    }\n",
       "\n",
       "    .dataframe thead th {\n",
       "        text-align: right;\n",
       "    }\n",
       "</style>\n",
       "<table border=\"1\" class=\"dataframe\">\n",
       "  <thead>\n",
       "    <tr style=\"text-align: right;\">\n",
       "      <th></th>\n",
       "      <th>title</th>\n",
       "      <th>ROI</th>\n",
       "    </tr>\n",
       "  </thead>\n",
       "  <tbody>\n",
       "    <tr>\n",
       "      <th>6955</th>\n",
       "      <td>Chasing Liberty</td>\n",
       "      <td>5.217391e-07</td>\n",
       "    </tr>\n",
       "    <tr>\n",
       "      <th>8041</th>\n",
       "      <td>The Cookout</td>\n",
       "      <td>7.500000e-07</td>\n",
       "    </tr>\n",
       "    <tr>\n",
       "      <th>2636</th>\n",
       "      <td>Never Talk to Strangers</td>\n",
       "      <td>9.375000e-07</td>\n",
       "    </tr>\n",
       "    <tr>\n",
       "      <th>12859</th>\n",
       "      <td>To Rob a Thief</td>\n",
       "      <td>1.499133e-06</td>\n",
       "    </tr>\n",
       "    <tr>\n",
       "      <th>17381</th>\n",
       "      <td>Deadfall</td>\n",
       "      <td>1.800000e-06</td>\n",
       "    </tr>\n",
       "  </tbody>\n",
       "</table>\n",
       "</div>"
      ],
      "text/plain": [
       "                         title           ROI\n",
       "6955           Chasing Liberty  5.217391e-07\n",
       "8041               The Cookout  7.500000e-07\n",
       "2636   Never Talk to Strangers  9.375000e-07\n",
       "12859           To Rob a Thief  1.499133e-06\n",
       "17381                 Deadfall  1.800000e-06"
      ]
     },
     "execution_count": 25,
     "metadata": {},
     "output_type": "execute_result"
    }
   ],
   "source": [
    "df.nsmallest(5,'ROI')[['title','ROI']]"
   ]
  },
  {
   "cell_type": "markdown",
   "metadata": {},
   "source": [
    "__Movies Top 5 - Most Votes__"
   ]
  },
  {
   "cell_type": "code",
   "execution_count": 31,
   "metadata": {},
   "outputs": [
    {
     "data": {
      "text/plain": [
       "15368    14075.0\n",
       "12396    12269.0\n",
       "14448    12114.0\n",
       "17669    12000.0\n",
       "26272    11444.0\n",
       "Name: vote_count, dtype: float64"
      ]
     },
     "execution_count": 31,
     "metadata": {},
     "output_type": "execute_result"
    }
   ],
   "source": [
    "df.nlargest(5,'vote_count')['vote_count']\n"
   ]
  },
  {
   "cell_type": "markdown",
   "metadata": {},
   "source": [
    "## Find your next Movie"
   ]
  },
  {
   "cell_type": "markdown",
   "metadata": {},
   "source": [
    "3. __Filter__ the Dataset for movies that meet the following conditions:"
   ]
  },
  {
   "cell_type": "markdown",
   "metadata": {},
   "source": [
    "__Search 1: Science Fiction Action Movie with Bruce Willis (sorted from high to low Rating)__"
   ]
  },
  {
   "cell_type": "markdown",
   "metadata": {},
   "source": [
    "__Search 2: Movies with Uma Thurman and directed by Quentin Tarantino (sorted from short to long runtime)__"
   ]
  },
  {
   "cell_type": "markdown",
   "metadata": {},
   "source": [
    "__Search 3: Most Successful Pixar Studio Movies between 2010 and 2015 (sorted from high to low Revenue)__"
   ]
  },
  {
   "cell_type": "markdown",
   "metadata": {},
   "source": [
    "__Search 4: Action or Thriller Movie with original language English and minimum Rating of 7.5 (most recent movies first)__"
   ]
  },
  {
   "cell_type": "code",
   "execution_count": 24,
   "metadata": {},
   "outputs": [
    {
     "data": {
      "text/plain": [
       "0        False\n",
       "1        False\n",
       "2        False\n",
       "3        False\n",
       "4        False\n",
       "         ...  \n",
       "44686    False\n",
       "44687    False\n",
       "44688    False\n",
       "44689    False\n",
       "44690    False\n",
       "Name: genres, Length: 44691, dtype: bool"
      ]
     },
     "execution_count": 24,
     "metadata": {},
     "output_type": "execute_result"
    }
   ],
   "source": [
    "mask_genre = df['genres'].str.contains('Science Fiction') & df['genres'].str.contains('Action')\n",
    "mask_genre"
   ]
  },
  {
   "cell_type": "code",
   "execution_count": 25,
   "metadata": {},
   "outputs": [
    {
     "data": {
      "text/plain": [
       "0        False\n",
       "1        False\n",
       "2        False\n",
       "3        False\n",
       "4        False\n",
       "         ...  \n",
       "44686    False\n",
       "44687    False\n",
       "44688    False\n",
       "44689    False\n",
       "44690      NaN\n",
       "Name: cast, Length: 44691, dtype: object"
      ]
     },
     "execution_count": 25,
     "metadata": {},
     "output_type": "execute_result"
    }
   ],
   "source": [
    "mask_actor = df['cast'].str.contains('Bruce Willis')\n",
    "mask_actor"
   ]
  },
  {
   "cell_type": "code",
   "execution_count": 27,
   "metadata": {},
   "outputs": [
    {
     "data": {
      "text/html": [
       "<div>\n",
       "<style scoped>\n",
       "    .dataframe tbody tr th:only-of-type {\n",
       "        vertical-align: middle;\n",
       "    }\n",
       "\n",
       "    .dataframe tbody tr th {\n",
       "        vertical-align: top;\n",
       "    }\n",
       "\n",
       "    .dataframe thead th {\n",
       "        text-align: right;\n",
       "    }\n",
       "</style>\n",
       "<table border=\"1\" class=\"dataframe\">\n",
       "  <thead>\n",
       "    <tr style=\"text-align: right;\">\n",
       "      <th></th>\n",
       "      <th>title</th>\n",
       "      <th>vote_average</th>\n",
       "    </tr>\n",
       "  </thead>\n",
       "  <tbody>\n",
       "    <tr>\n",
       "      <th>1448</th>\n",
       "      <td>The Fifth Element</td>\n",
       "      <td>7.3</td>\n",
       "    </tr>\n",
       "    <tr>\n",
       "      <th>19218</th>\n",
       "      <td>Looper</td>\n",
       "      <td>6.6</td>\n",
       "    </tr>\n",
       "    <tr>\n",
       "      <th>1786</th>\n",
       "      <td>Armageddon</td>\n",
       "      <td>6.5</td>\n",
       "    </tr>\n",
       "    <tr>\n",
       "      <th>14135</th>\n",
       "      <td>Surrogates</td>\n",
       "      <td>5.9</td>\n",
       "    </tr>\n",
       "    <tr>\n",
       "      <th>20333</th>\n",
       "      <td>G.I. Joe: Retaliation</td>\n",
       "      <td>5.4</td>\n",
       "    </tr>\n",
       "    <tr>\n",
       "      <th>27619</th>\n",
       "      <td>Vice</td>\n",
       "      <td>4.1</td>\n",
       "    </tr>\n",
       "  </tbody>\n",
       "</table>\n",
       "</div>"
      ],
      "text/plain": [
       "                       title  vote_average\n",
       "1448       The Fifth Element           7.3\n",
       "19218                 Looper           6.6\n",
       "1786              Armageddon           6.5\n",
       "14135             Surrogates           5.9\n",
       "20333  G.I. Joe: Retaliation           5.4\n",
       "27619                   Vice           4.1"
      ]
     },
     "execution_count": 27,
     "metadata": {},
     "output_type": "execute_result"
    }
   ],
   "source": [
    "df.loc[mask_genre & mask_actor,['title','vote_average']].sort_values(by=\"vote_average\",ascending=False)"
   ]
  },
  {
   "cell_type": "code",
   "execution_count": 36,
   "metadata": {},
   "outputs": [],
   "source": [
    "#Search 2: Movies with Uma Thurman and directed by Quentin Tarantino (sorted from short to long runtime)\n",
    "\n",
    "mask_mov = df['cast'].str.contains('Uma Thurman')\n",
    "\n"
   ]
  },
  {
   "cell_type": "code",
   "execution_count": 37,
   "metadata": {},
   "outputs": [],
   "source": [
    "mask_director = df['director'] == 'Quentin Tarantino'\n",
    "\n"
   ]
  },
  {
   "cell_type": "code",
   "execution_count": 39,
   "metadata": {},
   "outputs": [
    {
     "data": {
      "text/html": [
       "<div>\n",
       "<style scoped>\n",
       "    .dataframe tbody tr th:only-of-type {\n",
       "        vertical-align: middle;\n",
       "    }\n",
       "\n",
       "    .dataframe tbody tr th {\n",
       "        vertical-align: top;\n",
       "    }\n",
       "\n",
       "    .dataframe thead th {\n",
       "        text-align: right;\n",
       "    }\n",
       "</style>\n",
       "<table border=\"1\" class=\"dataframe\">\n",
       "  <thead>\n",
       "    <tr style=\"text-align: right;\">\n",
       "      <th></th>\n",
       "      <th>runtime</th>\n",
       "    </tr>\n",
       "  </thead>\n",
       "  <tbody>\n",
       "    <tr>\n",
       "      <th>6667</th>\n",
       "      <td>111.0</td>\n",
       "    </tr>\n",
       "    <tr>\n",
       "      <th>7208</th>\n",
       "      <td>136.0</td>\n",
       "    </tr>\n",
       "    <tr>\n",
       "      <th>291</th>\n",
       "      <td>154.0</td>\n",
       "    </tr>\n",
       "  </tbody>\n",
       "</table>\n",
       "</div>"
      ],
      "text/plain": [
       "      runtime\n",
       "6667    111.0\n",
       "7208    136.0\n",
       "291     154.0"
      ]
     },
     "execution_count": 39,
     "metadata": {},
     "output_type": "execute_result"
    }
   ],
   "source": [
    "df.loc[mask_mov & mask_director, ['runtime']].sort_values(by='runtime')"
   ]
  },
  {
   "cell_type": "code",
   "execution_count": 70,
   "metadata": {},
   "outputs": [],
   "source": [
    "#Most Successful Pixar Studio Movies between 2010 and 2015 (sorted from high to low Revenue)\n",
    "pixar_mask = df.production_companies.str.contains(\"Pixar\").fillna(False)\n",
    "\n",
    "date_mask = df['release_date'].between('2010-01-01','2015-12-31')"
   ]
  },
  {
   "cell_type": "code",
   "execution_count": 71,
   "metadata": {},
   "outputs": [
    {
     "data": {
      "text/html": [
       "<div>\n",
       "<style scoped>\n",
       "    .dataframe tbody tr th:only-of-type {\n",
       "        vertical-align: middle;\n",
       "    }\n",
       "\n",
       "    .dataframe tbody tr th {\n",
       "        vertical-align: top;\n",
       "    }\n",
       "\n",
       "    .dataframe thead th {\n",
       "        text-align: right;\n",
       "    }\n",
       "</style>\n",
       "<table border=\"1\" class=\"dataframe\">\n",
       "  <thead>\n",
       "    <tr style=\"text-align: right;\">\n",
       "      <th></th>\n",
       "      <th>title</th>\n",
       "      <th>revenue_musd</th>\n",
       "    </tr>\n",
       "  </thead>\n",
       "  <tbody>\n",
       "    <tr>\n",
       "      <th>15236</th>\n",
       "      <td>Toy Story 3</td>\n",
       "      <td>1066.969703</td>\n",
       "    </tr>\n",
       "    <tr>\n",
       "      <th>29957</th>\n",
       "      <td>Inside Out</td>\n",
       "      <td>857.611174</td>\n",
       "    </tr>\n",
       "    <tr>\n",
       "      <th>20888</th>\n",
       "      <td>Monsters University</td>\n",
       "      <td>743.559607</td>\n",
       "    </tr>\n",
       "    <tr>\n",
       "      <th>17220</th>\n",
       "      <td>Cars 2</td>\n",
       "      <td>559.852396</td>\n",
       "    </tr>\n",
       "    <tr>\n",
       "      <th>18900</th>\n",
       "      <td>Brave</td>\n",
       "      <td>538.983207</td>\n",
       "    </tr>\n",
       "    <tr>\n",
       "      <th>30388</th>\n",
       "      <td>The Good Dinosaur</td>\n",
       "      <td>331.926147</td>\n",
       "    </tr>\n",
       "    <tr>\n",
       "      <th>16392</th>\n",
       "      <td>Day &amp; Night</td>\n",
       "      <td>NaN</td>\n",
       "    </tr>\n",
       "    <tr>\n",
       "      <th>21694</th>\n",
       "      <td>The Blue Umbrella</td>\n",
       "      <td>NaN</td>\n",
       "    </tr>\n",
       "    <tr>\n",
       "      <th>21697</th>\n",
       "      <td>Toy Story of Terror!</td>\n",
       "      <td>NaN</td>\n",
       "    </tr>\n",
       "    <tr>\n",
       "      <th>22489</th>\n",
       "      <td>La luna</td>\n",
       "      <td>NaN</td>\n",
       "    </tr>\n",
       "    <tr>\n",
       "      <th>24252</th>\n",
       "      <td>Hawaiian Vacation</td>\n",
       "      <td>NaN</td>\n",
       "    </tr>\n",
       "    <tr>\n",
       "      <th>24254</th>\n",
       "      <td>Small Fry</td>\n",
       "      <td>NaN</td>\n",
       "    </tr>\n",
       "    <tr>\n",
       "      <th>25515</th>\n",
       "      <td>Partysaurus Rex</td>\n",
       "      <td>NaN</td>\n",
       "    </tr>\n",
       "    <tr>\n",
       "      <th>25516</th>\n",
       "      <td>The Legend of Mor'du</td>\n",
       "      <td>NaN</td>\n",
       "    </tr>\n",
       "    <tr>\n",
       "      <th>25517</th>\n",
       "      <td>Toy Story That Time Forgot</td>\n",
       "      <td>NaN</td>\n",
       "    </tr>\n",
       "    <tr>\n",
       "      <th>31803</th>\n",
       "      <td>Lava</td>\n",
       "      <td>NaN</td>\n",
       "    </tr>\n",
       "    <tr>\n",
       "      <th>34560</th>\n",
       "      <td>Sanjay's Super Team</td>\n",
       "      <td>NaN</td>\n",
       "    </tr>\n",
       "    <tr>\n",
       "      <th>40259</th>\n",
       "      <td>Air Mater</td>\n",
       "      <td>NaN</td>\n",
       "    </tr>\n",
       "    <tr>\n",
       "      <th>40675</th>\n",
       "      <td>Riley's First Date?</td>\n",
       "      <td>NaN</td>\n",
       "    </tr>\n",
       "  </tbody>\n",
       "</table>\n",
       "</div>"
      ],
      "text/plain": [
       "                            title  revenue_musd\n",
       "15236                 Toy Story 3   1066.969703\n",
       "29957                  Inside Out    857.611174\n",
       "20888         Monsters University    743.559607\n",
       "17220                      Cars 2    559.852396\n",
       "18900                       Brave    538.983207\n",
       "30388           The Good Dinosaur    331.926147\n",
       "16392                 Day & Night           NaN\n",
       "21694           The Blue Umbrella           NaN\n",
       "21697        Toy Story of Terror!           NaN\n",
       "22489                     La luna           NaN\n",
       "24252           Hawaiian Vacation           NaN\n",
       "24254                   Small Fry           NaN\n",
       "25515             Partysaurus Rex           NaN\n",
       "25516        The Legend of Mor'du           NaN\n",
       "25517  Toy Story That Time Forgot           NaN\n",
       "31803                        Lava           NaN\n",
       "34560         Sanjay's Super Team           NaN\n",
       "40259                   Air Mater           NaN\n",
       "40675         Riley's First Date?           NaN"
      ]
     },
     "execution_count": 71,
     "metadata": {},
     "output_type": "execute_result"
    }
   ],
   "source": [
    "df.loc[pixar_mask & date_mask,['title','revenue_musd']].sort_values(by='revenue_musd',ascending=False)"
   ]
  },
  {
   "cell_type": "code",
   "execution_count": 73,
   "metadata": {},
   "outputs": [
    {
     "data": {
      "text/html": [
       "<div>\n",
       "<style scoped>\n",
       "    .dataframe tbody tr th:only-of-type {\n",
       "        vertical-align: middle;\n",
       "    }\n",
       "\n",
       "    .dataframe tbody tr th {\n",
       "        vertical-align: top;\n",
       "    }\n",
       "\n",
       "    .dataframe thead th {\n",
       "        text-align: right;\n",
       "    }\n",
       "</style>\n",
       "<table border=\"1\" class=\"dataframe\">\n",
       "  <thead>\n",
       "    <tr style=\"text-align: right;\">\n",
       "      <th></th>\n",
       "      <th>genres</th>\n",
       "      <th>vote_average</th>\n",
       "      <th>vote_count</th>\n",
       "      <th>release_date</th>\n",
       "    </tr>\n",
       "    <tr>\n",
       "      <th>title</th>\n",
       "      <th></th>\n",
       "      <th></th>\n",
       "      <th></th>\n",
       "      <th></th>\n",
       "    </tr>\n",
       "  </thead>\n",
       "  <tbody>\n",
       "    <tr>\n",
       "      <th>What Happened to Monday</th>\n",
       "      <td>Science Fiction|Thriller</td>\n",
       "      <td>7.3</td>\n",
       "      <td>598.0</td>\n",
       "      <td>2017-08-18</td>\n",
       "    </tr>\n",
       "    <tr>\n",
       "      <th>Wind River</th>\n",
       "      <td>Action|Crime|Mystery|Thriller</td>\n",
       "      <td>7.4</td>\n",
       "      <td>181.0</td>\n",
       "      <td>2017-08-03</td>\n",
       "    </tr>\n",
       "    <tr>\n",
       "      <th>Detroit</th>\n",
       "      <td>Thriller|Crime|Drama|History</td>\n",
       "      <td>7.3</td>\n",
       "      <td>67.0</td>\n",
       "      <td>2017-07-28</td>\n",
       "    </tr>\n",
       "    <tr>\n",
       "      <th>Descendants 2</th>\n",
       "      <td>TV Movie|Family|Action|Comedy|Music|Adventure</td>\n",
       "      <td>7.5</td>\n",
       "      <td>171.0</td>\n",
       "      <td>2017-07-21</td>\n",
       "    </tr>\n",
       "    <tr>\n",
       "      <th>Dunkirk</th>\n",
       "      <td>Action|Drama|History|Thriller|War</td>\n",
       "      <td>7.5</td>\n",
       "      <td>2712.0</td>\n",
       "      <td>2017-07-19</td>\n",
       "    </tr>\n",
       "    <tr>\n",
       "      <th>...</th>\n",
       "      <td>...</td>\n",
       "      <td>...</td>\n",
       "      <td>...</td>\n",
       "      <td>...</td>\n",
       "    </tr>\n",
       "    <tr>\n",
       "      <th>The General</th>\n",
       "      <td>Action|Adventure|Comedy|Drama</td>\n",
       "      <td>8.0</td>\n",
       "      <td>240.0</td>\n",
       "      <td>1926-12-31</td>\n",
       "    </tr>\n",
       "    <tr>\n",
       "      <th>He Who Gets Slapped</th>\n",
       "      <td>Drama|Romance|Thriller</td>\n",
       "      <td>7.2</td>\n",
       "      <td>15.0</td>\n",
       "      <td>1924-12-22</td>\n",
       "    </tr>\n",
       "    <tr>\n",
       "      <th>The Navigator</th>\n",
       "      <td>Action|Comedy</td>\n",
       "      <td>7.3</td>\n",
       "      <td>38.0</td>\n",
       "      <td>1924-10-13</td>\n",
       "    </tr>\n",
       "    <tr>\n",
       "      <th>The Thief of Bagdad</th>\n",
       "      <td>Action|Adventure|Drama|Family|Fantasy</td>\n",
       "      <td>7.4</td>\n",
       "      <td>37.0</td>\n",
       "      <td>1924-03-18</td>\n",
       "    </tr>\n",
       "    <tr>\n",
       "      <th>The Great Train Robbery</th>\n",
       "      <td>Action|Adventure|Western</td>\n",
       "      <td>7.1</td>\n",
       "      <td>116.0</td>\n",
       "      <td>1903-12-01</td>\n",
       "    </tr>\n",
       "  </tbody>\n",
       "</table>\n",
       "<p>651 rows × 4 columns</p>\n",
       "</div>"
      ],
      "text/plain": [
       "                                                                genres  \\\n",
       "title                                                                    \n",
       "What Happened to Monday                       Science Fiction|Thriller   \n",
       "Wind River                               Action|Crime|Mystery|Thriller   \n",
       "Detroit                                   Thriller|Crime|Drama|History   \n",
       "Descendants 2            TV Movie|Family|Action|Comedy|Music|Adventure   \n",
       "Dunkirk                              Action|Drama|History|Thriller|War   \n",
       "...                                                                ...   \n",
       "The General                              Action|Adventure|Comedy|Drama   \n",
       "He Who Gets Slapped                             Drama|Romance|Thriller   \n",
       "The Navigator                                            Action|Comedy   \n",
       "The Thief of Bagdad              Action|Adventure|Drama|Family|Fantasy   \n",
       "The Great Train Robbery                       Action|Adventure|Western   \n",
       "\n",
       "                         vote_average  vote_count release_date  \n",
       "title                                                           \n",
       "What Happened to Monday           7.3       598.0   2017-08-18  \n",
       "Wind River                        7.4       181.0   2017-08-03  \n",
       "Detroit                           7.3        67.0   2017-07-28  \n",
       "Descendants 2                     7.5       171.0   2017-07-21  \n",
       "Dunkirk                           7.5      2712.0   2017-07-19  \n",
       "...                               ...         ...          ...  \n",
       "The General                       8.0       240.0   1926-12-31  \n",
       "He Who Gets Slapped               7.2        15.0   1924-12-22  \n",
       "The Navigator                     7.3        38.0   1924-10-13  \n",
       "The Thief of Bagdad               7.4        37.0   1924-03-18  \n",
       "The Great Train Robbery           7.1       116.0   1903-12-01  \n",
       "\n",
       "[651 rows x 4 columns]"
      ]
     },
     "execution_count": 73,
     "metadata": {},
     "output_type": "execute_result"
    }
   ],
   "source": [
    "#Search 4: Action or Thriller Movie with original language English and minimum Rating of 7.5 (most recent movies first)\n",
    "\n",
    "movie_mask = df['genres'].str.contains('Action') | df['genres'].str.contains('Thriller')\n",
    "\n",
    "lan_mask = df['original_language'] == 'en'\n",
    "\n",
    "rating_mask = df['vote_average'] >= 7 \n",
    "\n",
    "avg_mask = df['vote_count'] >= 10\n",
    "\n",
    "next_movie = df.loc[movie_mask & lan_mask & rating_mask & avg_mask, [\"title\", \"genres\", \"vote_average\", \"vote_count\", \"release_date\"]].sort_values(by='release_date',ascending=False).set_index('title')\n",
    "next_movie"
   ]
  },
  {
   "cell_type": "markdown",
   "metadata": {},
   "source": [
    "## Are Franchises more successful?"
   ]
  },
  {
   "cell_type": "markdown",
   "metadata": {},
   "source": [
    "4. __Analyze__ the Dataset and __find out whether Franchises (Movies that belong to a collection) are more successful than stand-alone movies__ in terms of:"
   ]
  },
  {
   "cell_type": "markdown",
   "metadata": {},
   "source": [
    "- mean revenue\n",
    "- median Return on Investment\n",
    "- mean budget raised\n",
    "- mean popularity\n",
    "- mean rating"
   ]
  },
  {
   "cell_type": "markdown",
   "metadata": {},
   "source": [
    "hint: use groupby()"
   ]
  },
  {
   "cell_type": "markdown",
   "metadata": {},
   "source": [
    "__Franchise vs. Stand-alone: Average Revenue__"
   ]
  },
  {
   "cell_type": "code",
   "execution_count": 7,
   "metadata": {},
   "outputs": [
    {
     "data": {
      "text/plain": [
       "belongs_to_collection\n",
       "... Has Fallen Collection               183.390043\n",
       "00 Schneider Filmreihe                         NaN\n",
       "08/15 Collection                               NaN\n",
       "100 Girls Collection                           NaN\n",
       "101 Dalmatians (Animated) Collection    215.880014\n",
       "                                           ...    \n",
       "Сказки Чуковского                              NaN\n",
       "Чебурашка и крокодил Гена                      NaN\n",
       "Что Творят мужчины! (Коллекция)                NaN\n",
       "男はつらいよ シリーズ                                    NaN\n",
       "식객 시리즈                                         NaN\n",
       "Name: revenue_musd, Length: 1691, dtype: float64"
      ]
     },
     "execution_count": 7,
     "metadata": {},
     "output_type": "execute_result"
    }
   ],
   "source": [
    "df.groupby('belongs_to_collection')['revenue_musd'].mean()"
   ]
  },
  {
   "cell_type": "markdown",
   "metadata": {},
   "source": [
    "__Franchise vs. Stand-alone: Return on Investment / Profitability (median)__"
   ]
  },
  {
   "cell_type": "code",
   "execution_count": 8,
   "metadata": {},
   "outputs": [
    {
     "data": {
      "text/plain": [
       "0        12.451801\n",
       "1         4.043035\n",
       "2              NaN\n",
       "3         5.090760\n",
       "4              NaN\n",
       "           ...    \n",
       "44686          NaN\n",
       "44687          NaN\n",
       "44688          NaN\n",
       "44689          NaN\n",
       "44690          NaN\n",
       "Name: ROI, Length: 44691, dtype: float64"
      ]
     },
     "execution_count": 8,
     "metadata": {},
     "output_type": "execute_result"
    }
   ],
   "source": [
    "df['ROI'] = df['revenue_musd'].div(df.budget_musd)\n",
    "df['ROI']"
   ]
  },
  {
   "cell_type": "code",
   "execution_count": 10,
   "metadata": {},
   "outputs": [
    {
     "data": {
      "text/plain": [
       "0         True\n",
       "1        False\n",
       "2         True\n",
       "3        False\n",
       "4         True\n",
       "         ...  \n",
       "44686    False\n",
       "44687    False\n",
       "44688    False\n",
       "44689    False\n",
       "44690    False\n",
       "Name: franc, Length: 44691, dtype: bool"
      ]
     },
     "execution_count": 10,
     "metadata": {},
     "output_type": "execute_result"
    }
   ],
   "source": [
    "df['franc'] = df['belongs_to_collection'].notna()\n",
    "df['franc']"
   ]
  },
  {
   "cell_type": "code",
   "execution_count": 11,
   "metadata": {},
   "outputs": [
    {
     "data": {
      "text/plain": [
       "ROI\n",
       "5.217391e-07    0.0\n",
       "7.500000e-07    0.0\n",
       "9.375000e-07    0.0\n",
       "1.499133e-06    0.0\n",
       "1.800000e-06    0.0\n",
       "               ... \n",
       "1.018619e+06    1.0\n",
       "2.755584e+06    0.0\n",
       "4.197477e+06    0.0\n",
       "8.500000e+06    0.0\n",
       "1.239638e+07    0.0\n",
       "Name: franc, Length: 5241, dtype: float64"
      ]
     },
     "execution_count": 11,
     "metadata": {},
     "output_type": "execute_result"
    }
   ],
   "source": [
    "df.groupby('ROI')['franc'].median()"
   ]
  },
  {
   "cell_type": "markdown",
   "metadata": {},
   "source": [
    "__Franchise vs. Stand-alone: Average Budget__"
   ]
  },
  {
   "cell_type": "code",
   "execution_count": 12,
   "metadata": {},
   "outputs": [
    {
     "data": {
      "text/plain": [
       "franc\n",
       "False    18.047741\n",
       "True     38.319847\n",
       "Name: budget_musd, dtype: float64"
      ]
     },
     "execution_count": 12,
     "metadata": {},
     "output_type": "execute_result"
    }
   ],
   "source": [
    "df.groupby('franc')['budget_musd'].mean()"
   ]
  },
  {
   "cell_type": "markdown",
   "metadata": {},
   "source": [
    "__Franchise vs. Stand-alone: Average Popularity__"
   ]
  },
  {
   "cell_type": "code",
   "execution_count": 14,
   "metadata": {},
   "outputs": [
    {
     "data": {
      "text/plain": [
       "franc\n",
       "False    2.592726\n",
       "True     6.245051\n",
       "Name: popularity, dtype: float64"
      ]
     },
     "execution_count": 14,
     "metadata": {},
     "output_type": "execute_result"
    }
   ],
   "source": [
    "df.groupby('franc')['popularity'].mean()"
   ]
  },
  {
   "cell_type": "markdown",
   "metadata": {},
   "source": [
    "__Franchise vs. Stand-alone: Average Rating__"
   ]
  },
  {
   "cell_type": "code",
   "execution_count": 15,
   "metadata": {},
   "outputs": [
    {
     "data": {
      "text/plain": [
       "franc\n",
       "False    6.008787\n",
       "True     5.956806\n",
       "Name: vote_average, dtype: float64"
      ]
     },
     "execution_count": 15,
     "metadata": {},
     "output_type": "execute_result"
    }
   ],
   "source": [
    "df.groupby('franc')['vote_average'].mean()"
   ]
  },
  {
   "cell_type": "code",
   "execution_count": 24,
   "metadata": {},
   "outputs": [
    {
     "data": {
      "text/html": [
       "<div>\n",
       "<style scoped>\n",
       "    .dataframe tbody tr th:only-of-type {\n",
       "        vertical-align: middle;\n",
       "    }\n",
       "\n",
       "    .dataframe tbody tr th {\n",
       "        vertical-align: top;\n",
       "    }\n",
       "\n",
       "    .dataframe thead tr th {\n",
       "        text-align: left;\n",
       "    }\n",
       "\n",
       "    .dataframe thead tr:last-of-type th {\n",
       "        text-align: right;\n",
       "    }\n",
       "</style>\n",
       "<table border=\"1\" class=\"dataframe\">\n",
       "  <thead>\n",
       "    <tr>\n",
       "      <th></th>\n",
       "      <th colspan=\"2\" halign=\"left\">budget_musd</th>\n",
       "      <th colspan=\"4\" halign=\"left\">revenue_musd</th>\n",
       "    </tr>\n",
       "    <tr>\n",
       "      <th></th>\n",
       "      <th>mean</th>\n",
       "      <th>sum</th>\n",
       "      <th>sum</th>\n",
       "      <th>mean</th>\n",
       "      <th>count</th>\n",
       "      <th>nunique</th>\n",
       "    </tr>\n",
       "    <tr>\n",
       "      <th>franc</th>\n",
       "      <th></th>\n",
       "      <th></th>\n",
       "      <th></th>\n",
       "      <th></th>\n",
       "      <th></th>\n",
       "      <th></th>\n",
       "    </tr>\n",
       "  </thead>\n",
       "  <tbody>\n",
       "    <tr>\n",
       "      <th>False</th>\n",
       "      <td>18.047741</td>\n",
       "      <td>131243.173823</td>\n",
       "      <td>264251.059520</td>\n",
       "      <td>44.742814</td>\n",
       "      <td>5906</td>\n",
       "      <td>5466</td>\n",
       "    </tr>\n",
       "    <tr>\n",
       "      <th>True</th>\n",
       "      <td>38.319847</td>\n",
       "      <td>60621.998159</td>\n",
       "      <td>245082.416858</td>\n",
       "      <td>165.708193</td>\n",
       "      <td>1479</td>\n",
       "      <td>1444</td>\n",
       "    </tr>\n",
       "  </tbody>\n",
       "</table>\n",
       "</div>"
      ],
      "text/plain": [
       "      budget_musd                  revenue_musd                          \n",
       "             mean            sum            sum        mean count nunique\n",
       "franc                                                                    \n",
       "False   18.047741  131243.173823  264251.059520   44.742814  5906    5466\n",
       "True    38.319847   60621.998159  245082.416858  165.708193  1479    1444"
      ]
     },
     "execution_count": 24,
     "metadata": {},
     "output_type": "execute_result"
    }
   ],
   "source": [
    "df.groupby('franc').agg({'budget_musd': ['mean','sum'], 'revenue_musd':['sum','mean','count','nunique']})"
   ]
  },
  {
   "cell_type": "markdown",
   "metadata": {},
   "source": [
    "## Most Successful Franchises"
   ]
  },
  {
   "cell_type": "markdown",
   "metadata": {},
   "source": [
    "5. __Find__ the __most successful Franchises__ in terms of"
   ]
  },
  {
   "cell_type": "markdown",
   "metadata": {},
   "source": [
    "- __total number of movies__\n",
    "- __total & mean budget__\n",
    "- __total & mean revenue__\n",
    "- __mean rating__"
   ]
  },
  {
   "cell_type": "code",
   "execution_count": 28,
   "metadata": {},
   "outputs": [
    {
     "data": {
      "text/plain": [
       "The Bowery Boys                  29\n",
       "Totò Collection                  27\n",
       "Zatôichi: The Blind Swordsman    26\n",
       "James Bond Collection            26\n",
       "The Carry On Collection          25\n",
       "                                 ..\n",
       "Salt and Pepper Collection        1\n",
       "Deadpool Collection               1\n",
       "Ant-Man Collection                1\n",
       "Elvira Collection                 1\n",
       "Red Lotus Collection              1\n",
       "Name: belongs_to_collection, Length: 1691, dtype: int64"
      ]
     },
     "execution_count": 28,
     "metadata": {},
     "output_type": "execute_result"
    }
   ],
   "source": [
    "df['belongs_to_collection'].value_counts()"
   ]
  },
  {
   "cell_type": "code",
   "execution_count": 31,
   "metadata": {},
   "outputs": [
    {
     "data": {
      "text/plain": [
       "The Bowery Boys                          29\n",
       "Totò Collection                          27\n",
       "James Bond Collection                    26\n",
       "Zatôichi: The Blind Swordsman            26\n",
       "The Carry On Collection                  25\n",
       "                                         ..\n",
       "Old Way Collection                        1\n",
       "Olsen Banden (Samling)                    1\n",
       "Hot Wheels: AcceleRacers - Collection     1\n",
       "Omae Umasou Da na                         1\n",
       "Dreileben                                 1\n",
       "Name: belongs_to_collection, Length: 1691, dtype: int64"
      ]
     },
     "execution_count": 31,
     "metadata": {},
     "output_type": "execute_result"
    }
   ],
   "source": [
    "df.sort_values(by='belongs_to_collection',ascending=False)['belongs_to_collection'].value_counts()"
   ]
  },
  {
   "cell_type": "code",
   "execution_count": 34,
   "metadata": {},
   "outputs": [],
   "source": [
    "franchises = df.groupby(\"belongs_to_collection\").agg({\"title\":\"count\", \"budget_musd\": [\"sum\", \"mean\"], \n",
    "                                                      \"revenue_musd\": [\"sum\", \"mean\"],\n",
    "                                                      \"vote_average\": \"mean\", \"popularity\": \"mean\",\n",
    "                                                      \"ROI\":\"median\", \n",
    "                                                      \"vote_count\":\"mean\"})"
   ]
  },
  {
   "cell_type": "code",
   "execution_count": 35,
   "metadata": {},
   "outputs": [],
   "source": [
    "franchises = df.groupby(\"belongs_to_collection\").agg({\"title\":\"count\", \"budget_musd\": [\"sum\", \"mean\"], \n",
    "                                                      \"revenue_musd\": [\"sum\", \"mean\"],\n",
    "                                                      \"vote_average\": \"mean\", \"popularity\": \"mean\",\n",
    "                                                      \"ROI\":\"median\", \n",
    "                                                      \"vote_count\":\"mean\"})"
   ]
  },
  {
   "cell_type": "code",
   "execution_count": 38,
   "metadata": {},
   "outputs": [
    {
     "data": {
      "text/html": [
       "<div>\n",
       "<style scoped>\n",
       "    .dataframe tbody tr th:only-of-type {\n",
       "        vertical-align: middle;\n",
       "    }\n",
       "\n",
       "    .dataframe tbody tr th {\n",
       "        vertical-align: top;\n",
       "    }\n",
       "\n",
       "    .dataframe thead tr th {\n",
       "        text-align: left;\n",
       "    }\n",
       "\n",
       "    .dataframe thead tr:last-of-type th {\n",
       "        text-align: right;\n",
       "    }\n",
       "</style>\n",
       "<table border=\"1\" class=\"dataframe\">\n",
       "  <thead>\n",
       "    <tr>\n",
       "      <th></th>\n",
       "      <th>title</th>\n",
       "      <th colspan=\"2\" halign=\"left\">budget_musd</th>\n",
       "      <th colspan=\"2\" halign=\"left\">revenue_musd</th>\n",
       "      <th>vote_average</th>\n",
       "      <th>popularity</th>\n",
       "      <th>ROI</th>\n",
       "      <th>vote_count</th>\n",
       "    </tr>\n",
       "    <tr>\n",
       "      <th></th>\n",
       "      <th>count</th>\n",
       "      <th>sum</th>\n",
       "      <th>mean</th>\n",
       "      <th>sum</th>\n",
       "      <th>mean</th>\n",
       "      <th>mean</th>\n",
       "      <th>mean</th>\n",
       "      <th>median</th>\n",
       "      <th>mean</th>\n",
       "    </tr>\n",
       "    <tr>\n",
       "      <th>belongs_to_collection</th>\n",
       "      <th></th>\n",
       "      <th></th>\n",
       "      <th></th>\n",
       "      <th></th>\n",
       "      <th></th>\n",
       "      <th></th>\n",
       "      <th></th>\n",
       "      <th></th>\n",
       "      <th></th>\n",
       "    </tr>\n",
       "  </thead>\n",
       "  <tbody>\n",
       "    <tr>\n",
       "      <th>James Bond Collection</th>\n",
       "      <td>26</td>\n",
       "      <td>1539.65</td>\n",
       "      <td>59.217308</td>\n",
       "      <td>7106.970239</td>\n",
       "      <td>273.345009</td>\n",
       "      <td>6.338462</td>\n",
       "      <td>13.453502</td>\n",
       "      <td>6.128922</td>\n",
       "      <td>1284.307692</td>\n",
       "    </tr>\n",
       "    <tr>\n",
       "      <th>Harry Potter Collection</th>\n",
       "      <td>8</td>\n",
       "      <td>1280.00</td>\n",
       "      <td>160.000000</td>\n",
       "      <td>7707.367425</td>\n",
       "      <td>963.420928</td>\n",
       "      <td>7.537500</td>\n",
       "      <td>26.253893</td>\n",
       "      <td>6.165086</td>\n",
       "      <td>5983.250000</td>\n",
       "    </tr>\n",
       "    <tr>\n",
       "      <th>Pirates of the Caribbean Collection</th>\n",
       "      <td>5</td>\n",
       "      <td>1250.00</td>\n",
       "      <td>250.000000</td>\n",
       "      <td>4521.576826</td>\n",
       "      <td>904.315365</td>\n",
       "      <td>6.880000</td>\n",
       "      <td>53.972237</td>\n",
       "      <td>3.453009</td>\n",
       "      <td>5016.000000</td>\n",
       "    </tr>\n",
       "    <tr>\n",
       "      <th>The Fast and the Furious Collection</th>\n",
       "      <td>8</td>\n",
       "      <td>1009.00</td>\n",
       "      <td>126.125000</td>\n",
       "      <td>5125.098793</td>\n",
       "      <td>640.637349</td>\n",
       "      <td>6.662500</td>\n",
       "      <td>10.799435</td>\n",
       "      <td>4.942154</td>\n",
       "      <td>3197.000000</td>\n",
       "    </tr>\n",
       "    <tr>\n",
       "      <th>X-Men Collection</th>\n",
       "      <td>6</td>\n",
       "      <td>983.00</td>\n",
       "      <td>163.833333</td>\n",
       "      <td>2808.832317</td>\n",
       "      <td>468.138720</td>\n",
       "      <td>6.816667</td>\n",
       "      <td>9.707541</td>\n",
       "      <td>3.023632</td>\n",
       "      <td>4593.833333</td>\n",
       "    </tr>\n",
       "  </tbody>\n",
       "</table>\n",
       "</div>"
      ],
      "text/plain": [
       "                                    title budget_musd              \\\n",
       "                                    count         sum        mean   \n",
       "belongs_to_collection                                               \n",
       "James Bond Collection                  26     1539.65   59.217308   \n",
       "Harry Potter Collection                 8     1280.00  160.000000   \n",
       "Pirates of the Caribbean Collection     5     1250.00  250.000000   \n",
       "The Fast and the Furious Collection     8     1009.00  126.125000   \n",
       "X-Men Collection                        6      983.00  163.833333   \n",
       "\n",
       "                                    revenue_musd             vote_average  \\\n",
       "                                             sum        mean         mean   \n",
       "belongs_to_collection                                                       \n",
       "James Bond Collection                7106.970239  273.345009     6.338462   \n",
       "Harry Potter Collection              7707.367425  963.420928     7.537500   \n",
       "Pirates of the Caribbean Collection  4521.576826  904.315365     6.880000   \n",
       "The Fast and the Furious Collection  5125.098793  640.637349     6.662500   \n",
       "X-Men Collection                     2808.832317  468.138720     6.816667   \n",
       "\n",
       "                                    popularity       ROI   vote_count  \n",
       "                                          mean    median         mean  \n",
       "belongs_to_collection                                                  \n",
       "James Bond Collection                13.453502  6.128922  1284.307692  \n",
       "Harry Potter Collection              26.253893  6.165086  5983.250000  \n",
       "Pirates of the Caribbean Collection  53.972237  3.453009  5016.000000  \n",
       "The Fast and the Furious Collection  10.799435  4.942154  3197.000000  \n",
       "X-Men Collection                      9.707541  3.023632  4593.833333  "
      ]
     },
     "execution_count": 38,
     "metadata": {},
     "output_type": "execute_result"
    }
   ],
   "source": [
    "franchises.nlargest(5,('budget_musd','sum'))"
   ]
  },
  {
   "cell_type": "code",
   "execution_count": 39,
   "metadata": {},
   "outputs": [
    {
     "data": {
      "text/html": [
       "<div>\n",
       "<style scoped>\n",
       "    .dataframe tbody tr th:only-of-type {\n",
       "        vertical-align: middle;\n",
       "    }\n",
       "\n",
       "    .dataframe tbody tr th {\n",
       "        vertical-align: top;\n",
       "    }\n",
       "\n",
       "    .dataframe thead tr th {\n",
       "        text-align: left;\n",
       "    }\n",
       "\n",
       "    .dataframe thead tr:last-of-type th {\n",
       "        text-align: right;\n",
       "    }\n",
       "</style>\n",
       "<table border=\"1\" class=\"dataframe\">\n",
       "  <thead>\n",
       "    <tr>\n",
       "      <th></th>\n",
       "      <th>title</th>\n",
       "      <th colspan=\"2\" halign=\"left\">budget_musd</th>\n",
       "      <th colspan=\"2\" halign=\"left\">revenue_musd</th>\n",
       "      <th>vote_average</th>\n",
       "      <th>popularity</th>\n",
       "      <th>ROI</th>\n",
       "      <th>vote_count</th>\n",
       "    </tr>\n",
       "    <tr>\n",
       "      <th></th>\n",
       "      <th>count</th>\n",
       "      <th>sum</th>\n",
       "      <th>mean</th>\n",
       "      <th>sum</th>\n",
       "      <th>mean</th>\n",
       "      <th>mean</th>\n",
       "      <th>mean</th>\n",
       "      <th>median</th>\n",
       "      <th>mean</th>\n",
       "    </tr>\n",
       "    <tr>\n",
       "      <th>belongs_to_collection</th>\n",
       "      <th></th>\n",
       "      <th></th>\n",
       "      <th></th>\n",
       "      <th></th>\n",
       "      <th></th>\n",
       "      <th></th>\n",
       "      <th></th>\n",
       "      <th></th>\n",
       "      <th></th>\n",
       "    </tr>\n",
       "  </thead>\n",
       "  <tbody>\n",
       "    <tr>\n",
       "      <th>Tangled Collection</th>\n",
       "      <td>2</td>\n",
       "      <td>260.0</td>\n",
       "      <td>260.0</td>\n",
       "      <td>591.794936</td>\n",
       "      <td>591.794936</td>\n",
       "      <td>7.250000</td>\n",
       "      <td>12.319364</td>\n",
       "      <td>2.276134</td>\n",
       "      <td>1901.000000</td>\n",
       "    </tr>\n",
       "    <tr>\n",
       "      <th>Pirates of the Caribbean Collection</th>\n",
       "      <td>5</td>\n",
       "      <td>1250.0</td>\n",
       "      <td>250.0</td>\n",
       "      <td>4521.576826</td>\n",
       "      <td>904.315365</td>\n",
       "      <td>6.880000</td>\n",
       "      <td>53.972237</td>\n",
       "      <td>3.453009</td>\n",
       "      <td>5016.000000</td>\n",
       "    </tr>\n",
       "    <tr>\n",
       "      <th>The Avengers Collection</th>\n",
       "      <td>2</td>\n",
       "      <td>500.0</td>\n",
       "      <td>250.0</td>\n",
       "      <td>2924.961604</td>\n",
       "      <td>1462.480802</td>\n",
       "      <td>7.350000</td>\n",
       "      <td>63.633534</td>\n",
       "      <td>5.963190</td>\n",
       "      <td>9454.000000</td>\n",
       "    </tr>\n",
       "    <tr>\n",
       "      <th>The Hobbit Collection</th>\n",
       "      <td>3</td>\n",
       "      <td>750.0</td>\n",
       "      <td>250.0</td>\n",
       "      <td>2935.523356</td>\n",
       "      <td>978.507785</td>\n",
       "      <td>7.233333</td>\n",
       "      <td>25.205614</td>\n",
       "      <td>3.833600</td>\n",
       "      <td>5981.333333</td>\n",
       "    </tr>\n",
       "    <tr>\n",
       "      <th>Man of Steel Collection</th>\n",
       "      <td>2</td>\n",
       "      <td>475.0</td>\n",
       "      <td>237.5</td>\n",
       "      <td>1536.105712</td>\n",
       "      <td>768.052856</td>\n",
       "      <td>6.100000</td>\n",
       "      <td>24.987357</td>\n",
       "      <td>3.219510</td>\n",
       "      <td>6825.500000</td>\n",
       "    </tr>\n",
       "  </tbody>\n",
       "</table>\n",
       "</div>"
      ],
      "text/plain": [
       "                                    title budget_musd        revenue_musd  \\\n",
       "                                    count         sum   mean          sum   \n",
       "belongs_to_collection                                                       \n",
       "Tangled Collection                      2       260.0  260.0   591.794936   \n",
       "Pirates of the Caribbean Collection     5      1250.0  250.0  4521.576826   \n",
       "The Avengers Collection                 2       500.0  250.0  2924.961604   \n",
       "The Hobbit Collection                   3       750.0  250.0  2935.523356   \n",
       "Man of Steel Collection                 2       475.0  237.5  1536.105712   \n",
       "\n",
       "                                                 vote_average popularity  \\\n",
       "                                            mean         mean       mean   \n",
       "belongs_to_collection                                                      \n",
       "Tangled Collection                    591.794936     7.250000  12.319364   \n",
       "Pirates of the Caribbean Collection   904.315365     6.880000  53.972237   \n",
       "The Avengers Collection              1462.480802     7.350000  63.633534   \n",
       "The Hobbit Collection                 978.507785     7.233333  25.205614   \n",
       "Man of Steel Collection               768.052856     6.100000  24.987357   \n",
       "\n",
       "                                          ROI   vote_count  \n",
       "                                       median         mean  \n",
       "belongs_to_collection                                       \n",
       "Tangled Collection                   2.276134  1901.000000  \n",
       "Pirates of the Caribbean Collection  3.453009  5016.000000  \n",
       "The Avengers Collection              5.963190  9454.000000  \n",
       "The Hobbit Collection                3.833600  5981.333333  \n",
       "Man of Steel Collection              3.219510  6825.500000  "
      ]
     },
     "execution_count": 39,
     "metadata": {},
     "output_type": "execute_result"
    }
   ],
   "source": [
    "franchises.nlargest(5,('budget_musd','mean'))"
   ]
  },
  {
   "cell_type": "code",
   "execution_count": null,
   "metadata": {},
   "outputs": [],
   "source": []
  },
  {
   "cell_type": "markdown",
   "metadata": {},
   "source": [
    "## Most Successful Directors"
   ]
  },
  {
   "cell_type": "markdown",
   "metadata": {},
   "source": [
    "6. __Find__ the __most successful Directors__ in terms of"
   ]
  },
  {
   "cell_type": "markdown",
   "metadata": {},
   "source": [
    "- __total number of movies__\n",
    "- __total revenue__"
   ]
  },
  {
   "cell_type": "code",
   "execution_count": 44,
   "metadata": {},
   "outputs": [
    {
     "data": {
      "text/html": [
       "<div>\n",
       "<style scoped>\n",
       "    .dataframe tbody tr th:only-of-type {\n",
       "        vertical-align: middle;\n",
       "    }\n",
       "\n",
       "    .dataframe tbody tr th {\n",
       "        vertical-align: top;\n",
       "    }\n",
       "\n",
       "    .dataframe thead th {\n",
       "        text-align: right;\n",
       "    }\n",
       "</style>\n",
       "<table border=\"1\" class=\"dataframe\">\n",
       "  <thead>\n",
       "    <tr style=\"text-align: right;\">\n",
       "      <th></th>\n",
       "      <th>title</th>\n",
       "    </tr>\n",
       "    <tr>\n",
       "      <th>director</th>\n",
       "      <th></th>\n",
       "    </tr>\n",
       "  </thead>\n",
       "  <tbody>\n",
       "    <tr>\n",
       "      <th>John Ford</th>\n",
       "      <td>66</td>\n",
       "    </tr>\n",
       "    <tr>\n",
       "      <th>Michael Curtiz</th>\n",
       "      <td>65</td>\n",
       "    </tr>\n",
       "    <tr>\n",
       "      <th>Werner Herzog</th>\n",
       "      <td>54</td>\n",
       "    </tr>\n",
       "    <tr>\n",
       "      <th>Alfred Hitchcock</th>\n",
       "      <td>53</td>\n",
       "    </tr>\n",
       "    <tr>\n",
       "      <th>Woody Allen</th>\n",
       "      <td>49</td>\n",
       "    </tr>\n",
       "  </tbody>\n",
       "</table>\n",
       "</div>"
      ],
      "text/plain": [
       "                  title\n",
       "director               \n",
       "John Ford            66\n",
       "Michael Curtiz       65\n",
       "Werner Herzog        54\n",
       "Alfred Hitchcock     53\n",
       "Woody Allen          49"
      ]
     },
     "execution_count": 44,
     "metadata": {},
     "output_type": "execute_result"
    }
   ],
   "source": [
    "df.groupby('director').agg({'title':'count'}).sort_values(by='title',ascending=False).head(5)"
   ]
  },
  {
   "cell_type": "code",
   "execution_count": 48,
   "metadata": {},
   "outputs": [
    {
     "data": {
      "text/html": [
       "<div>\n",
       "<style scoped>\n",
       "    .dataframe tbody tr th:only-of-type {\n",
       "        vertical-align: middle;\n",
       "    }\n",
       "\n",
       "    .dataframe tbody tr th {\n",
       "        vertical-align: top;\n",
       "    }\n",
       "\n",
       "    .dataframe thead th {\n",
       "        text-align: right;\n",
       "    }\n",
       "</style>\n",
       "<table border=\"1\" class=\"dataframe\">\n",
       "  <thead>\n",
       "    <tr style=\"text-align: right;\">\n",
       "      <th></th>\n",
       "      <th>revenue_musd</th>\n",
       "    </tr>\n",
       "    <tr>\n",
       "      <th>director</th>\n",
       "      <th></th>\n",
       "    </tr>\n",
       "  </thead>\n",
       "  <tbody>\n",
       "    <tr>\n",
       "      <th>Steven Spielberg</th>\n",
       "      <td>9256.621422</td>\n",
       "    </tr>\n",
       "    <tr>\n",
       "      <th>Peter Jackson</th>\n",
       "      <td>6528.244659</td>\n",
       "    </tr>\n",
       "    <tr>\n",
       "      <th>Michael Bay</th>\n",
       "      <td>6437.466781</td>\n",
       "    </tr>\n",
       "    <tr>\n",
       "      <th>James Cameron</th>\n",
       "      <td>5900.610310</td>\n",
       "    </tr>\n",
       "    <tr>\n",
       "      <th>David Yates</th>\n",
       "      <td>5334.563196</td>\n",
       "    </tr>\n",
       "  </tbody>\n",
       "</table>\n",
       "</div>"
      ],
      "text/plain": [
       "                  revenue_musd\n",
       "director                      \n",
       "Steven Spielberg   9256.621422\n",
       "Peter Jackson      6528.244659\n",
       "Michael Bay        6437.466781\n",
       "James Cameron      5900.610310\n",
       "David Yates        5334.563196"
      ]
     },
     "execution_count": 48,
     "metadata": {},
     "output_type": "execute_result"
    }
   ],
   "source": [
    "df.groupby('director').agg({'revenue_musd':'sum'}).sort_values(by='revenue_musd',ascending=False).head(5)"
   ]
  },
  {
   "cell_type": "code",
   "execution_count": null,
   "metadata": {},
   "outputs": [],
   "source": []
  }
 ],
 "metadata": {
  "kernelspec": {
   "display_name": "Python 3 (ipykernel)",
   "language": "python",
   "name": "python3"
  },
  "language_info": {
   "codemirror_mode": {
    "name": "ipython",
    "version": 3
   },
   "file_extension": ".py",
   "mimetype": "text/x-python",
   "name": "python",
   "nbconvert_exporter": "python",
   "pygments_lexer": "ipython3",
   "version": "3.9.7"
  }
 },
 "nbformat": 4,
 "nbformat_minor": 2
}
